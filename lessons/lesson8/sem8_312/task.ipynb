{
 "cells": [
  {
   "cell_type": "markdown",
   "metadata": {},
   "source": [
    "# Декораторы"
   ]
  },
  {
   "cell_type": "markdown",
   "metadata": {},
   "source": [
    "# Задача 1: Суммы прогрессий\n",
    "\n",
    "Необходимо реализовать функционал для подсчета суммы первых n + 1 - членов арифметической и геометрической прогрессии с возможностями настройки шага и значения первого члена. n соответствует числу вызовов функции по подсчету суммы. \n",
    "\n",
    "Предполагаемые сценарии использования:\n",
    "\n",
    "```python\n",
    "\n",
    "sum_arithmetic = make_arithmetic_progression_sum(first_member=2, step=0.5)\n",
    "sum_geometric = make_geometric_progression_sum(first_member=1, step=0.5)\n",
    "\n",
    "print(sum_arithmetic())\n",
    "print(sum_arithmetic())\n",
    "print('')\n",
    "print(sum_geometric())\n",
    "print(sum_geometric())\n",
    "```\n",
    "\n",
    "*Вывод*:\n",
    "```console\n",
    "4.5\n",
    "7.5\n",
    "\n",
    "1.5\n",
    "1.75\n",
    "```"
   ]
  },
  {
   "cell_type": "code",
   "execution_count": 5,
   "metadata": {},
   "outputs": [
    {
     "name": "stdout",
     "output_type": "stream",
     "text": [
      "4.5\n",
      "7.5\n",
      "\n",
      "1.5\n",
      "1.75\n"
     ]
    }
   ],
   "source": [
    "def make_arithmetic_progression_sum(first_member: float, step: float):\n",
    "    general_sum = first_member\n",
    "    last_elem = first_member\n",
    "\n",
    "    def sum_arithmetic():\n",
    "        nonlocal general_sum\n",
    "        nonlocal last_elem\n",
    "        last_elem += step\n",
    "        general_sum += last_elem\n",
    "        return general_sum\n",
    "    \n",
    "    return sum_arithmetic\n",
    "\n",
    "def make_geometric_progression_sum(first_member: float, step: float):\n",
    "    general_product = first_member\n",
    "    last_elem = first_member\n",
    "\n",
    "    def product_geo():\n",
    "        nonlocal general_product\n",
    "        nonlocal last_elem\n",
    "        last_elem *= step\n",
    "        general_product += last_elem\n",
    "        return general_product\n",
    "    \n",
    "    return product_geo\n",
    "\n",
    "sum_arithmetic = make_arithmetic_progression_sum(first_member=2, step=0.5)\n",
    "sum_geometric = make_geometric_progression_sum(first_member=1, step=0.5)\n",
    "\n",
    "print(sum_arithmetic())\n",
    "print(sum_arithmetic())\n",
    "print('')\n",
    "print(sum_geometric())\n",
    "print(sum_geometric())\n",
    "    \n",
    "\n",
    "\n"
   ]
  },
  {
   "cell_type": "code",
   "execution_count": null,
   "metadata": {},
   "outputs": [],
   "source": []
  },
  {
   "cell_type": "markdown",
   "metadata": {},
   "source": [
    "# Задача 2: Среднее\n",
    "\n",
    "Предположим, что мы занимаемся инвистициями и у нас есть некоторый портфель акций. Каждый день наш портфель приносит нам некоторый доход или убыток. Мы задались целью: каждый день фиксированного периода определять средний доход (или убыток), который мы получаем. С этой целью мы реализовали функцию get_avg(), принимающую на вход значение заработка на сегодняшний день. Наша функция вычисляет среднее в течении определнного фиксированного периода, скажем, 30 дней, после чего обнуляется и начинает вычислять среднее заново, но уже по новым значениям. \n",
    "\n",
    "Также у нас есть друзья инвесторы, которые оценили разработанный нами функционал и хотели бы заполучить свой экземпляр функции get_avg, для подсчета своего дохода в течении интересующего их промежутка времени.\n",
    "\n",
    "Ваша задача: реализовать функционал, для получения произвольного числа независимых функций get_avg(). В момент создания функции сообщается длительность периода расчета среднего, по достижении которого среднее начинает расчитываться заново, а также наш начальный доход. При каждом вызове функции передается число - заработок в текущий день.\n",
    "\n",
    "Предполагаемые сценарии использования:\n",
    "\n",
    "```python\n",
    "\n",
    "get_avg1 = make_averager(accumulation_period=2)\n",
    "print(get_avg1(78))\n",
    "print(get_avg1(-17))\n",
    "print(get_avg1(52))\n",
    "```\n",
    "\n",
    "*Вывод*:\n",
    "```console\n",
    "78.0\n",
    "30.5\n",
    "52.0\n",
    "```"
   ]
  },
  {
   "cell_type": "code",
   "execution_count": 13,
   "metadata": {},
   "outputs": [
    {
     "name": "stdout",
     "output_type": "stream",
     "text": [
      "78.0\n",
      "30.5\n",
      "52.0\n"
     ]
    }
   ],
   "source": [
    "def make_averager(accumulation_period: int):\n",
    "    amount = 0\n",
    "    general_sum = 0\n",
    "\n",
    "    def get_avg1(elem: float):\n",
    "        nonlocal amount\n",
    "        nonlocal general_sum\n",
    "        amount += 1\n",
    "        general_sum += elem\n",
    "        mean = general_sum / amount\n",
    "        if amount == accumulation_period:\n",
    "            amount = 0\n",
    "            general_sum = 0\n",
    "        \n",
    "        return mean\n",
    "    \n",
    "    return get_avg1\n",
    "    \n",
    "get_avg1 = make_averager(accumulation_period=2)\n",
    "print(get_avg1(78))\n",
    "print(get_avg1(-17))\n",
    "print(get_avg1(52))\n"
   ]
  },
  {
   "cell_type": "markdown",
   "metadata": {},
   "source": [
    "# Задача 3: Сбор статистик\n",
    "\n",
    "Предположим, что мы работаем в отделе аналитики некоторой компании. В компании также существуют другие отделы, которые разрабатывают некоторые функции для осуществления сложных вычислений. Также в нашей компании существует отдел планирования, который следит за исполнением сроков реализации той или иной функции, и в случае, если разработка затягивается, начинает торопить разработчиков. В таком случае разработчики пишут медленный код на скорую руку, что расстраивает заказчиков.\n",
    "\n",
    "Наша задача, как аналитиков, собрать статистику по проблемным функциям. Нас интересует количество вызовов функции, а также среднее время выполнения функции. Все статистики собираются в отдельную базу данных - специальный единый словарь. Более того, статистика должна собираться не для всех функций, а только для функций, зарегестрированных в базе данных. Затем эта информация будет передана начальству, чтобы в скорейшее время заняться переписанием долгих и популярных функций.\n",
    "\n",
    "Ваша задача реализовать функционал для регистрации функций в БД и сбора статистик. "
   ]
  },
  {
   "cell_type": "code",
   "execution_count": 23,
   "metadata": {},
   "outputs": [],
   "source": [
    "from time import time, sleep\n",
    "from functools import wraps\n",
    "from random import randint\n",
    "\n",
    "functions_register = {}\n",
    "\n",
    "def register(func):\n",
    "    global functions_register\n",
    "    if func not in functions_register:\n",
    "        functions_register[func.__name__] = {\"calls_amount\": 0, \"time_avg\": 0}\n",
    "    pass\n",
    "\n",
    "def statistic_deko(func):\n",
    "    register(func)\n",
    "\n",
    "    @wraps(func)\n",
    "    def func_with_stats(*args, **kwargs):\n",
    "        global functions_register\n",
    "        time_start = time()\n",
    "\n",
    "        result = func(*args, **kwargs)\n",
    "\n",
    "        time_finish = time()\n",
    "        work_time = time_finish - time_start\n",
    "        total_time = functions_register[func.__name__][\"time_avg\"] * functions_register[func.__name__][\"calls_amount\"]\n",
    "        functions_register[func.__name__][\"calls_amount\"] += 1\n",
    "        new_total_time = total_time + work_time\n",
    "\n",
    "        functions_register[func.__name__][\"time_avg\"] = new_total_time / functions_register[func.__name__][\"calls_amount\"]\n",
    "\n",
    "        return result\n",
    "    \n",
    "    return func_with_stats\n",
    "\n",
    "@statistic_deko\n",
    "def rand_sleep():\n",
    "    t = randint(1, 4)\n",
    "    sleep(t)\n",
    "    return t"
   ]
  },
  {
   "cell_type": "code",
   "execution_count": 26,
   "metadata": {},
   "outputs": [
    {
     "name": "stdout",
     "output_type": "stream",
     "text": [
      "4 4 4 3\n",
      "{'rand_sleep': {'calls_amount': 12, 'time_avg': 3.000802834828695}}\n"
     ]
    }
   ],
   "source": [
    "print(rand_sleep(), rand_sleep(), rand_sleep(), rand_sleep())\n",
    "print(functions_register)"
   ]
  },
  {
   "cell_type": "markdown",
   "metadata": {},
   "source": [
    "# Задача 4: наивный LRU-кэш\n",
    "\n",
    "Представим, что вы являетесь сотрудником департамента оптимизаций некоторой компании, занимающейся разработкой ПО для научных вычислений. Раздел аналитиков предоставил вам исследование, согласно которому значительная часть функций в вашей компании работает очень медленно и должна быть оптимизирована. Более того, согласно исследованию, вызовы этих функций в основном осуществляются с ограниченным множеством аргументов. Для оптимизации этих функций вы решили использовать LRU-кэш:\n",
    "\n",
    "- вы заранее фиксируете размер кэша - памяти, выделенной для хранения результатов вычислений функции;  \n",
    "- в кэше хранится следующая информация: аргументы вызова - результат;  \n",
    "- помимо этого для каждой пары хранится время их последнего вызова;  \n",
    "- в случае достижения объема кэша установленной границы удаляются значения, чьи времена последних вызовов являются самыми старыми;  \n",
    "\n",
    "Для применения данного подхода ко всем проблемным функциям, не переписывая сами функции, вы решили реализовать параметрический декоратор, т.к. для разных функций требуется разный размер кеша.\n",
    "\n",
    "Ваша задача: реализовать описанный декоратор."
   ]
  },
  {
   "cell_type": "code",
   "execution_count": 42,
   "metadata": {},
   "outputs": [
    {
     "ename": "TypeError",
     "evalue": "LRU.<locals>.start_caching() takes 0 positional arguments but 1 was given",
     "output_type": "error",
     "traceback": [
      "\u001b[1;31m---------------------------------------------------------------------------\u001b[0m",
      "\u001b[1;31mTypeError\u001b[0m                                 Traceback (most recent call last)",
      "\u001b[1;32md:\\MIPT\\Py Projects\\python_mipt_dafe\\lessons\\lesson8\\sem8_312\\task.ipynb Cell 11\u001b[0m line \u001b[0;36m4\n\u001b[0;32m     <a href='vscode-notebook-cell:/d%3A/MIPT/Py%20Projects/python_mipt_dafe/lessons/lesson8/sem8_312/task.ipynb#X13sZmlsZQ%3D%3D?line=39'>40</a>\u001b[0m         \u001b[39mreturn\u001b[39;00m dec_cache\n\u001b[0;32m     <a href='vscode-notebook-cell:/d%3A/MIPT/Py%20Projects/python_mipt_dafe/lessons/lesson8/sem8_312/task.ipynb#X13sZmlsZQ%3D%3D?line=40'>41</a>\u001b[0m     \u001b[39mreturn\u001b[39;00m start_caching\n\u001b[1;32m---> <a href='vscode-notebook-cell:/d%3A/MIPT/Py%20Projects/python_mipt_dafe/lessons/lesson8/sem8_312/task.ipynb#X13sZmlsZQ%3D%3D?line=43'>44</a>\u001b[0m \u001b[39m@LRU\u001b[39;49m(\u001b[39m5\u001b[39;49m)\n\u001b[0;32m     <a href='vscode-notebook-cell:/d%3A/MIPT/Py%20Projects/python_mipt_dafe/lessons/lesson8/sem8_312/task.ipynb#X13sZmlsZQ%3D%3D?line=44'>45</a>\u001b[0m \u001b[39mdef\u001b[39;49;00m \u001b[39mgeo_progression\u001b[39;49m(length):\n\u001b[0;32m     <a href='vscode-notebook-cell:/d%3A/MIPT/Py%20Projects/python_mipt_dafe/lessons/lesson8/sem8_312/task.ipynb#X13sZmlsZQ%3D%3D?line=45'>46</a>\u001b[0m     \u001b[39mif\u001b[39;49;00m length \u001b[39m<\u001b[39;49m\u001b[39m=\u001b[39;49m \u001b[39m2\u001b[39;49m:\n\u001b[0;32m     <a href='vscode-notebook-cell:/d%3A/MIPT/Py%20Projects/python_mipt_dafe/lessons/lesson8/sem8_312/task.ipynb#X13sZmlsZQ%3D%3D?line=46'>47</a>\u001b[0m         \u001b[39mreturn\u001b[39;49;00m \u001b[39m1\u001b[39;49m\n",
      "\u001b[1;31mTypeError\u001b[0m: LRU.<locals>.start_caching() takes 0 positional arguments but 1 was given"
     ]
    }
   ],
   "source": [
    "from time import time\n",
    "\n",
    "\n",
    "def LRU(cache_size: int = 10):\n",
    "\n",
    "    def start_caching():\n",
    "        LRU_cache = {}\n",
    "\n",
    "        def dec_cache(func):\n",
    "\n",
    "            def caching(*args, **kwargs):\n",
    "                nonlocal LRU_cache\n",
    "\n",
    "                argument = args + tuple(kwargs.values()) \n",
    "                if argument in LRU_cache:\n",
    "                    time_func = round(time(), 10)\n",
    "                    LRU_cache[argument][\"last_call\"] = time_func\n",
    "                    return LRU_cache[argument][\"value\"]\n",
    "                \n",
    "                print(len(LRU_cache.values()))\n",
    "                print(LRU_cache)\n",
    "                if len(LRU_cache) > cache_size:\n",
    "                    min_time = 10000000000000000000000000000\n",
    "                    print(\"aaa\")\n",
    "                    for key in LRU_cache:\n",
    "                        min_time = min(min_time, LRU_cache[key][\"last_call\"])\n",
    "                    for key in LRU_cache:\n",
    "                        if LRU_cache[key][\"last_call\"] == min_time:\n",
    "                            print(LRU_cache[key])\n",
    "                            del LRU_cache[key]\n",
    "                            break\n",
    "\n",
    "                time_func = round(time(), 10)\n",
    "                result = func(*args, **kwargs)\n",
    "                LRU_cache[argument] = {\"value\": result, \"last_call\": time_func}\n",
    "\n",
    "                return result\n",
    "            \n",
    "            return caching\n",
    "        return dec_cache\n",
    "    return start_caching\n",
    "\n",
    "    \n",
    "@LRU(5)\n",
    "def geo_progression(length):\n",
    "    if length <= 2:\n",
    "        return 1\n",
    "    return geo_progression(length - 1) + geo_progression(length - 2)\n"
   ]
  },
  {
   "cell_type": "code",
   "execution_count": 45,
   "metadata": {},
   "outputs": [],
   "source": [
    "def LRU(stek_size: int = 10):\n",
    "\n",
    "    def LRU_sub(func):\n",
    "\n",
    "        def cache(*args, **kwargs):\n",
    "            nonlocal LRU_cache\n",
    "            nonlocal length\n",
    "\n",
    "            argument = args + tuple(kwargs.values())\n",
    "            if argument in LRU_cache:\n",
    "                time_call = time()\n",
    "                LRU_cache[argument][\"time_call\"] = time_call\n",
    "                return LRU_cache[argument][\"value\"]\n",
    "            \n",
    "            if length == stek_size:\n",
    "                min_len = 100000000000000000000000\n",
    "                for i in LRU_cache:\n",
    "                    if min_len < LRU_cache[i][\"time_call\"]:\n",
    "                        min_len = LRU_cache[i][\"time_call\"]\n",
    "                        for_del = i\n",
    "                del LRU_cache[for_del]\n",
    "                length -= 1\n",
    "            \n",
    "            time_call = time()\n",
    "            result = func(*args, **kwargs)\n",
    "            LRU_cache[argument] = {\"value\": result, \"time_call\": time_call}\n",
    "            length += 1\n",
    "\n",
    "            return result\n",
    "\n",
    "        return cache\n",
    "    return LRU_sub\n",
    "\n",
    "\n",
    "\n",
    "@LRU()\n",
    "def geo_progression(length):\n",
    "    if length <= 2:\n",
    "        return 1\n",
    "    return geo_progression(length - 1) + geo_progression(length - 2)"
   ]
  },
  {
   "cell_type": "code",
   "execution_count": 46,
   "metadata": {},
   "outputs": [
    {
     "ename": "TypeError",
     "evalue": "geo_progression() missing 1 required positional argument: 'length'",
     "output_type": "error",
     "traceback": [
      "\u001b[1;31m---------------------------------------------------------------------------\u001b[0m",
      "\u001b[1;31mTypeError\u001b[0m                                 Traceback (most recent call last)",
      "\u001b[1;32md:\\MIPT\\Py Projects\\python_mipt_dafe\\lessons\\lesson8\\sem8_312\\task.ipynb Cell 13\u001b[0m line \u001b[0;36m1\n\u001b[1;32m----> <a href='vscode-notebook-cell:/d%3A/MIPT/Py%20Projects/python_mipt_dafe/lessons/lesson8/sem8_312/task.ipynb#X20sZmlsZQ%3D%3D?line=0'>1</a>\u001b[0m geo \u001b[39m=\u001b[39m geo_progression()\n\u001b[0;32m      <a href='vscode-notebook-cell:/d%3A/MIPT/Py%20Projects/python_mipt_dafe/lessons/lesson8/sem8_312/task.ipynb#X20sZmlsZQ%3D%3D?line=1'>2</a>\u001b[0m \u001b[39mprint\u001b[39m(geo(\u001b[39m1000\u001b[39m))\n",
      "\u001b[1;32md:\\MIPT\\Py Projects\\python_mipt_dafe\\lessons\\lesson8\\sem8_312\\task.ipynb Cell 13\u001b[0m line \u001b[0;36m2\n\u001b[0;32m     <a href='vscode-notebook-cell:/d%3A/MIPT/Py%20Projects/python_mipt_dafe/lessons/lesson8/sem8_312/task.ipynb#X20sZmlsZQ%3D%3D?line=24'>25</a>\u001b[0m     length \u001b[39m-\u001b[39m\u001b[39m=\u001b[39m \u001b[39m1\u001b[39m\n\u001b[0;32m     <a href='vscode-notebook-cell:/d%3A/MIPT/Py%20Projects/python_mipt_dafe/lessons/lesson8/sem8_312/task.ipynb#X20sZmlsZQ%3D%3D?line=26'>27</a>\u001b[0m time_call \u001b[39m=\u001b[39m time()\n\u001b[1;32m---> <a href='vscode-notebook-cell:/d%3A/MIPT/Py%20Projects/python_mipt_dafe/lessons/lesson8/sem8_312/task.ipynb#X20sZmlsZQ%3D%3D?line=27'>28</a>\u001b[0m result \u001b[39m=\u001b[39m func(\u001b[39m*\u001b[39;49margs, \u001b[39m*\u001b[39;49m\u001b[39m*\u001b[39;49mkwargs)\n\u001b[0;32m     <a href='vscode-notebook-cell:/d%3A/MIPT/Py%20Projects/python_mipt_dafe/lessons/lesson8/sem8_312/task.ipynb#X20sZmlsZQ%3D%3D?line=28'>29</a>\u001b[0m LRU_cache[argument] \u001b[39m=\u001b[39m {\u001b[39m\"\u001b[39m\u001b[39mvalue\u001b[39m\u001b[39m\"\u001b[39m: result, \u001b[39m\"\u001b[39m\u001b[39mtime_call\u001b[39m\u001b[39m\"\u001b[39m: time_call}\n\u001b[0;32m     <a href='vscode-notebook-cell:/d%3A/MIPT/Py%20Projects/python_mipt_dafe/lessons/lesson8/sem8_312/task.ipynb#X20sZmlsZQ%3D%3D?line=29'>30</a>\u001b[0m length \u001b[39m+\u001b[39m\u001b[39m=\u001b[39m \u001b[39m1\u001b[39m\n",
      "\u001b[1;31mTypeError\u001b[0m: geo_progression() missing 1 required positional argument: 'length'"
     ]
    }
   ],
   "source": [
    "geo = geo_progression()\n",
    "print(geo(1000))"
   ]
  },
  {
   "cell_type": "code",
   "execution_count": 41,
   "metadata": {},
   "outputs": [
    {
     "name": "stdout",
     "output_type": "stream",
     "text": [
      "0\n",
      "{}\n"
     ]
    },
    {
     "ename": "TypeError",
     "evalue": "LRU.<locals>.start_caching.<locals>.dec_cache() takes 0 positional arguments but 1 was given",
     "output_type": "error",
     "traceback": [
      "\u001b[1;31m---------------------------------------------------------------------------\u001b[0m",
      "\u001b[1;31mTypeError\u001b[0m                                 Traceback (most recent call last)",
      "\u001b[1;32md:\\MIPT\\Py Projects\\python_mipt_dafe\\lessons\\lesson8\\sem8_312\\task.ipynb Cell 12\u001b[0m line \u001b[0;36m2\n\u001b[0;32m      <a href='vscode-notebook-cell:/d%3A/MIPT/Py%20Projects/python_mipt_dafe/lessons/lesson8/sem8_312/task.ipynb#X14sZmlsZQ%3D%3D?line=0'>1</a>\u001b[0m geo \u001b[39m=\u001b[39m geo_progression()\n\u001b[1;32m----> <a href='vscode-notebook-cell:/d%3A/MIPT/Py%20Projects/python_mipt_dafe/lessons/lesson8/sem8_312/task.ipynb#X14sZmlsZQ%3D%3D?line=1'>2</a>\u001b[0m \u001b[39mprint\u001b[39m(geo(\u001b[39m1000\u001b[39;49m))\n",
      "\u001b[1;32md:\\MIPT\\Py Projects\\python_mipt_dafe\\lessons\\lesson8\\sem8_312\\task.ipynb Cell 12\u001b[0m line \u001b[0;36m3\n\u001b[0;32m     <a href='vscode-notebook-cell:/d%3A/MIPT/Py%20Projects/python_mipt_dafe/lessons/lesson8/sem8_312/task.ipynb#X14sZmlsZQ%3D%3D?line=30'>31</a>\u001b[0m             \u001b[39mbreak\u001b[39;00m\n\u001b[0;32m     <a href='vscode-notebook-cell:/d%3A/MIPT/Py%20Projects/python_mipt_dafe/lessons/lesson8/sem8_312/task.ipynb#X14sZmlsZQ%3D%3D?line=32'>33</a>\u001b[0m time_func \u001b[39m=\u001b[39m \u001b[39mround\u001b[39m(time(), \u001b[39m10\u001b[39m)\n\u001b[1;32m---> <a href='vscode-notebook-cell:/d%3A/MIPT/Py%20Projects/python_mipt_dafe/lessons/lesson8/sem8_312/task.ipynb#X14sZmlsZQ%3D%3D?line=33'>34</a>\u001b[0m result \u001b[39m=\u001b[39m func(\u001b[39m*\u001b[39;49margs, \u001b[39m*\u001b[39;49m\u001b[39m*\u001b[39;49mkwargs)\n\u001b[0;32m     <a href='vscode-notebook-cell:/d%3A/MIPT/Py%20Projects/python_mipt_dafe/lessons/lesson8/sem8_312/task.ipynb#X14sZmlsZQ%3D%3D?line=34'>35</a>\u001b[0m LRU_cache[argument] \u001b[39m=\u001b[39m {\u001b[39m\"\u001b[39m\u001b[39mvalue\u001b[39m\u001b[39m\"\u001b[39m: result, \u001b[39m\"\u001b[39m\u001b[39mlast_call\u001b[39m\u001b[39m\"\u001b[39m: time_func}\n\u001b[0;32m     <a href='vscode-notebook-cell:/d%3A/MIPT/Py%20Projects/python_mipt_dafe/lessons/lesson8/sem8_312/task.ipynb#X14sZmlsZQ%3D%3D?line=36'>37</a>\u001b[0m \u001b[39mreturn\u001b[39;00m result\n",
      "\u001b[1;32md:\\MIPT\\Py Projects\\python_mipt_dafe\\lessons\\lesson8\\sem8_312\\task.ipynb Cell 12\u001b[0m line \u001b[0;36m4\n\u001b[0;32m     <a href='vscode-notebook-cell:/d%3A/MIPT/Py%20Projects/python_mipt_dafe/lessons/lesson8/sem8_312/task.ipynb#X14sZmlsZQ%3D%3D?line=45'>46</a>\u001b[0m \u001b[39mif\u001b[39;00m length \u001b[39m<\u001b[39m\u001b[39m=\u001b[39m \u001b[39m2\u001b[39m:\n\u001b[0;32m     <a href='vscode-notebook-cell:/d%3A/MIPT/Py%20Projects/python_mipt_dafe/lessons/lesson8/sem8_312/task.ipynb#X14sZmlsZQ%3D%3D?line=46'>47</a>\u001b[0m     \u001b[39mreturn\u001b[39;00m \u001b[39m1\u001b[39m\n\u001b[1;32m---> <a href='vscode-notebook-cell:/d%3A/MIPT/Py%20Projects/python_mipt_dafe/lessons/lesson8/sem8_312/task.ipynb#X14sZmlsZQ%3D%3D?line=47'>48</a>\u001b[0m \u001b[39mreturn\u001b[39;00m geo_progression(length \u001b[39m-\u001b[39;49m \u001b[39m1\u001b[39;49m) \u001b[39m+\u001b[39m geo_progression(length \u001b[39m-\u001b[39m \u001b[39m2\u001b[39m)\n",
      "\u001b[1;31mTypeError\u001b[0m: LRU.<locals>.start_caching.<locals>.dec_cache() takes 0 positional arguments but 1 was given"
     ]
    }
   ],
   "source": [
    "geo = geo_progression()\n",
    "print(geo(1000))"
   ]
  },
  {
   "cell_type": "code",
   "execution_count": 34,
   "metadata": {},
   "outputs": [
    {
     "ename": "AttributeError",
     "evalue": "'int' object has no attribute '__closure__'",
     "output_type": "error",
     "traceback": [
      "\u001b[1;31m---------------------------------------------------------------------------\u001b[0m",
      "\u001b[1;31mAttributeError\u001b[0m                            Traceback (most recent call last)",
      "\u001b[1;32md:\\MIPT\\Py Projects\\python_mipt_dafe\\lessons\\lesson8\\sem8_312\\task.ipynb Cell 13\u001b[0m line \u001b[0;36m1\n\u001b[1;32m----> <a href='vscode-notebook-cell:/d%3A/MIPT/Py%20Projects/python_mipt_dafe/lessons/lesson8/sem8_312/task.ipynb#X15sZmlsZQ%3D%3D?line=0'>1</a>\u001b[0m \u001b[39mprint\u001b[39m(\u001b[39mf\u001b[39m\u001b[39m'\u001b[39m\u001b[39mcounter1 closure: \u001b[39m\u001b[39m{\u001b[39;00mgeo\u001b[39m.\u001b[39;49m\u001b[39m__closure__\u001b[39;49m\u001b[39m}\u001b[39;00m\u001b[39m'\u001b[39m)\n\u001b[0;32m      <a href='vscode-notebook-cell:/d%3A/MIPT/Py%20Projects/python_mipt_dafe/lessons/lesson8/sem8_312/task.ipynb#X15sZmlsZQ%3D%3D?line=2'>3</a>\u001b[0m \u001b[39mfor\u001b[39;00m i, cell \u001b[39min\u001b[39;00m \u001b[39menumerate\u001b[39m(geo\u001b[39m.\u001b[39m\u001b[39m__closure__\u001b[39m):\n\u001b[0;32m      <a href='vscode-notebook-cell:/d%3A/MIPT/Py%20Projects/python_mipt_dafe/lessons/lesson8/sem8_312/task.ipynb#X15sZmlsZQ%3D%3D?line=3'>4</a>\u001b[0m     \u001b[39mprint\u001b[39m(\u001b[39mf\u001b[39m\u001b[39m'\u001b[39m\u001b[39mgeo cell\u001b[39m\u001b[39m{\u001b[39;00mi\u001b[39m}\u001b[39;00m\u001b[39m content: \u001b[39m\u001b[39m{\u001b[39;00mgeo\u001b[39m.\u001b[39mcell_contents\u001b[39m}\u001b[39;00m\u001b[39m;\u001b[39m\u001b[39m'\u001b[39m)\n",
      "\u001b[1;31mAttributeError\u001b[0m: 'int' object has no attribute '__closure__'"
     ]
    }
   ],
   "source": [
    "print(f'counter1 closure: {geo.__closure__}')\n",
    "\n",
    "for i, cell in enumerate(geo.__closure__):\n",
    "    print(f'geo cell{i} content: {geo.cell_contents};')"
   ]
  }
 ],
 "metadata": {
  "kernelspec": {
   "display_name": "Python 3",
   "language": "python",
   "name": "python3"
  },
  "language_info": {
   "codemirror_mode": {
    "name": "ipython",
    "version": 3
   },
   "file_extension": ".py",
   "mimetype": "text/x-python",
   "name": "python",
   "nbconvert_exporter": "python",
   "pygments_lexer": "ipython3",
   "version": "3.11.5"
  }
 },
 "nbformat": 4,
 "nbformat_minor": 2
}
